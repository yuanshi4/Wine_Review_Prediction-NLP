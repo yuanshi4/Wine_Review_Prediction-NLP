{
 "cells": [
  {
   "cell_type": "markdown",
   "metadata": {},
   "source": [
    "## Importing necessary packages"
   ]
  },
  {
   "cell_type": "code",
   "execution_count": 1,
   "metadata": {},
   "outputs": [
    {
     "name": "stderr",
     "output_type": "stream",
     "text": [
      "[nltk_data] Downloading package wordnet to /Users/ayyoki/nltk_data...\n",
      "[nltk_data]   Package wordnet is already up-to-date!\n"
     ]
    }
   ],
   "source": [
    "import pandas as pd\n",
    "import numpy as np\n",
    "import nltk\n",
    "\n",
    "import gensim\n",
    "from gensim.utils import simple_preprocess\n",
    "from gensim.parsing.preprocessing import STOPWORDS\n",
    "from nltk.stem import WordNetLemmatizer\n",
    "from nltk.stem.porter import PorterStemmer\n",
    "from nltk.stem.porter import *\n",
    "np.random.seed(2018)\n",
    "nltk.download('wordnet')\n",
    "\n",
    "%matplotlib inline\n",
    "import matplotlib.pyplot as plt"
   ]
  },
  {
   "cell_type": "code",
   "execution_count": 19,
   "metadata": {},
   "outputs": [],
   "source": [
    "my_data = pd.read_csv('winemag-data-130k-v2.csv', error_bad_lines=False)"
   ]
  },
  {
   "cell_type": "code",
   "execution_count": 20,
   "metadata": {},
   "outputs": [
    {
     "name": "stderr",
     "output_type": "stream",
     "text": [
      "/Users/ayyoki/anaconda3/lib/python3.7/site-packages/ipykernel_launcher.py:3: SettingWithCopyWarning: \n",
      "A value is trying to be set on a copy of a slice from a DataFrame.\n",
      "Try using .loc[row_indexer,col_indexer] = value instead\n",
      "\n",
      "See the caveats in the documentation: http://pandas.pydata.org/pandas-docs/stable/indexing.html#indexing-view-versus-copy\n",
      "  This is separate from the ipykernel package so we can avoid doing imports until\n"
     ]
    }
   ],
   "source": [
    "#extracting the description portion of the data(where most of the text info is)\n",
    "description = my_data[['description']]\n",
    "description['index'] = description.index"
   ]
  },
  {
   "cell_type": "code",
   "execution_count": 21,
   "metadata": {},
   "outputs": [
    {
     "data": {
      "text/html": [
       "<div>\n",
       "<style scoped>\n",
       "    .dataframe tbody tr th:only-of-type {\n",
       "        vertical-align: middle;\n",
       "    }\n",
       "\n",
       "    .dataframe tbody tr th {\n",
       "        vertical-align: top;\n",
       "    }\n",
       "\n",
       "    .dataframe thead th {\n",
       "        text-align: right;\n",
       "    }\n",
       "</style>\n",
       "<table border=\"1\" class=\"dataframe\">\n",
       "  <thead>\n",
       "    <tr style=\"text-align: right;\">\n",
       "      <th></th>\n",
       "      <th>description</th>\n",
       "      <th>index</th>\n",
       "    </tr>\n",
       "  </thead>\n",
       "  <tbody>\n",
       "    <tr>\n",
       "      <th>0</th>\n",
       "      <td>Aromas include tropical fruit, broom, brimston...</td>\n",
       "      <td>0</td>\n",
       "    </tr>\n",
       "    <tr>\n",
       "      <th>1</th>\n",
       "      <td>This is ripe and fruity, a wine that is smooth...</td>\n",
       "      <td>1</td>\n",
       "    </tr>\n",
       "    <tr>\n",
       "      <th>2</th>\n",
       "      <td>Tart and snappy, the flavors of lime flesh and...</td>\n",
       "      <td>2</td>\n",
       "    </tr>\n",
       "    <tr>\n",
       "      <th>3</th>\n",
       "      <td>Pineapple rind, lemon pith and orange blossom ...</td>\n",
       "      <td>3</td>\n",
       "    </tr>\n",
       "    <tr>\n",
       "      <th>4</th>\n",
       "      <td>Much like the regular bottling from 2012, this...</td>\n",
       "      <td>4</td>\n",
       "    </tr>\n",
       "  </tbody>\n",
       "</table>\n",
       "</div>"
      ],
      "text/plain": [
       "                                         description  index\n",
       "0  Aromas include tropical fruit, broom, brimston...      0\n",
       "1  This is ripe and fruity, a wine that is smooth...      1\n",
       "2  Tart and snappy, the flavors of lime flesh and...      2\n",
       "3  Pineapple rind, lemon pith and orange blossom ...      3\n",
       "4  Much like the regular bottling from 2012, this...      4"
      ]
     },
     "execution_count": 21,
     "metadata": {},
     "output_type": "execute_result"
    }
   ],
   "source": [
    "description.head(5)"
   ]
  },
  {
   "cell_type": "code",
   "execution_count": 6,
   "metadata": {},
   "outputs": [
    {
     "data": {
      "text/html": [
       "<div>\n",
       "<style scoped>\n",
       "    .dataframe tbody tr th:only-of-type {\n",
       "        vertical-align: middle;\n",
       "    }\n",
       "\n",
       "    .dataframe tbody tr th {\n",
       "        vertical-align: top;\n",
       "    }\n",
       "\n",
       "    .dataframe thead th {\n",
       "        text-align: right;\n",
       "    }\n",
       "</style>\n",
       "<table border=\"1\" class=\"dataframe\">\n",
       "  <thead>\n",
       "    <tr style=\"text-align: right;\">\n",
       "      <th></th>\n",
       "      <th>total_na</th>\n",
       "      <th>percent_missing</th>\n",
       "    </tr>\n",
       "  </thead>\n",
       "  <tbody>\n",
       "    <tr>\n",
       "      <th>Unnamed: 0</th>\n",
       "      <td>0</td>\n",
       "      <td>0.000000</td>\n",
       "    </tr>\n",
       "    <tr>\n",
       "      <th>country</th>\n",
       "      <td>63</td>\n",
       "      <td>0.048472</td>\n",
       "    </tr>\n",
       "    <tr>\n",
       "      <th>description</th>\n",
       "      <td>0</td>\n",
       "      <td>0.000000</td>\n",
       "    </tr>\n",
       "    <tr>\n",
       "      <th>designation</th>\n",
       "      <td>37465</td>\n",
       "      <td>28.825661</td>\n",
       "    </tr>\n",
       "    <tr>\n",
       "      <th>points</th>\n",
       "      <td>0</td>\n",
       "      <td>0.000000</td>\n",
       "    </tr>\n",
       "    <tr>\n",
       "      <th>price</th>\n",
       "      <td>8996</td>\n",
       "      <td>6.921544</td>\n",
       "    </tr>\n",
       "    <tr>\n",
       "      <th>province</th>\n",
       "      <td>63</td>\n",
       "      <td>0.048472</td>\n",
       "    </tr>\n",
       "    <tr>\n",
       "      <th>region_1</th>\n",
       "      <td>21247</td>\n",
       "      <td>16.347493</td>\n",
       "    </tr>\n",
       "    <tr>\n",
       "      <th>region_2</th>\n",
       "      <td>79460</td>\n",
       "      <td>61.136715</td>\n",
       "    </tr>\n",
       "    <tr>\n",
       "      <th>taster_name</th>\n",
       "      <td>26244</td>\n",
       "      <td>20.192197</td>\n",
       "    </tr>\n",
       "    <tr>\n",
       "      <th>taster_twitter_handle</th>\n",
       "      <td>31213</td>\n",
       "      <td>24.015357</td>\n",
       "    </tr>\n",
       "    <tr>\n",
       "      <th>title</th>\n",
       "      <td>0</td>\n",
       "      <td>0.000000</td>\n",
       "    </tr>\n",
       "    <tr>\n",
       "      <th>variety</th>\n",
       "      <td>1</td>\n",
       "      <td>0.000769</td>\n",
       "    </tr>\n",
       "    <tr>\n",
       "      <th>winery</th>\n",
       "      <td>0</td>\n",
       "      <td>0.000000</td>\n",
       "    </tr>\n",
       "  </tbody>\n",
       "</table>\n",
       "</div>"
      ],
      "text/plain": [
       "                       total_na  percent_missing\n",
       "Unnamed: 0                    0         0.000000\n",
       "country                      63         0.048472\n",
       "description                   0         0.000000\n",
       "designation               37465        28.825661\n",
       "points                        0         0.000000\n",
       "price                      8996         6.921544\n",
       "province                     63         0.048472\n",
       "region_1                  21247        16.347493\n",
       "region_2                  79460        61.136715\n",
       "taster_name               26244        20.192197\n",
       "taster_twitter_handle     31213        24.015357\n",
       "title                         0         0.000000\n",
       "variety                       1         0.000769\n",
       "winery                        0         0.000000"
      ]
     },
     "execution_count": 6,
     "metadata": {},
     "output_type": "execute_result"
    }
   ],
   "source": [
    "###calculate the missing portion of the data\n",
    "total_na = my_data.isnull().sum()\n",
    "percent_missing = (my_data.isnull().sum()/my_data.isnull().count()*100)\n",
    "missing_data  = pd.concat([total_na, percent_missing], axis=1, keys=['total_na', 'percent_missing'])\n",
    "missing_data"
   ]
  },
  {
   "cell_type": "markdown",
   "metadata": {},
   "source": [
    "## The first step I took is writing function that cleans words for me, this includes tokenization, lemmatization, stem, and remove stopwords."
   ]
  },
  {
   "cell_type": "code",
   "execution_count": 12,
   "metadata": {},
   "outputs": [],
   "source": [
    "###get the Part-of-speech feature in order to identify what vocabulary(verb,noun,adj or adv)\n",
    "###This is for Lemmatization to correctly lemmatize words.\n",
    "from nltk.corpus import wordnet\n",
    "def get_wordnet_pos(word):\n",
    "    tag = nltk.pos_tag([word])[0][1][0].upper()\n",
    "    tag_dict = {\"J\": wordnet.ADJ,\n",
    "                \"N\": wordnet.NOUN,\n",
    "                \"V\": wordnet.VERB,\n",
    "                \"R\": wordnet.ADV}\n",
    "\n",
    "    return tag_dict.get(tag, wordnet.NOUN)"
   ]
  },
  {
   "cell_type": "code",
   "execution_count": 33,
   "metadata": {},
   "outputs": [],
   "source": [
    "###this step write a function and perform both lemmatization and stem, as well as \n",
    "###tokenization to the imported text using features from ultk and gensim\n",
    "###my experience from internship told me that lemmatize first then stem \n",
    "###providing the best accuracy, note we use POS feature for lemmatization\n",
    "stemmer = PorterStemmer()\n",
    "def lemmatize_stemming(text):\n",
    "    return stemmer.stem(WordNetLemmatizer().lemmatize(text, pos=get_wordnet_pos(text)))\n",
    "\n",
    "def preprocess(text):\n",
    "    result = []\n",
    "    for token in gensim.utils.simple_preprocess(text):\n",
    "        if token not in gensim.parsing.preprocessing.STOPWORDS and len(token) >= 2:\n",
    "            result.append(lemmatize_stemming(token))\n",
    "    return result"
   ]
  },
  {
   "cell_type": "markdown",
   "metadata": {},
   "source": [
    "## Apply Text pre-processing"
   ]
  },
  {
   "cell_type": "code",
   "execution_count": 34,
   "metadata": {},
   "outputs": [],
   "source": [
    "cleaned_description = description['description'].map(preprocess)\n"
   ]
  },
  {
   "cell_type": "code",
   "execution_count": 39,
   "metadata": {},
   "outputs": [
    {
     "data": {
      "text/plain": [
       "0    [aroma, includ, tropic, fruit, broom, brimston...\n",
       "1    [ripe, fruiti, wine, smooth, structur, firm, t...\n",
       "2    [tart, snappi, flavor, lime, flesh, rind, domi...\n",
       "3    [pineappl, rind, lemon, pith, orang, blossom, ...\n",
       "4    [like, regular, bottl, come, rough, tannic, ru...\n",
       "Name: description, dtype: object"
      ]
     },
     "execution_count": 39,
     "metadata": {},
     "output_type": "execute_result"
    }
   ],
   "source": [
    "### now, we processed lemmatization and stem to the documents.\n",
    "## As we can see, reduced in document 12 has been transformed to reduce.\n",
    "#building has become build.\n",
    "cleaned_description.head(5)"
   ]
  },
  {
   "cell_type": "markdown",
   "metadata": {},
   "source": [
    "### save the cleaned text data"
   ]
  },
  {
   "cell_type": "code",
   "execution_count": 41,
   "metadata": {},
   "outputs": [],
   "source": [
    "##add this back to original data.\n",
    "my_data['cleaned_description'] = cleaned_description\n",
    "my_data.to_csv('lemma_stem_cleaned_description.csv')"
   ]
  },
  {
   "cell_type": "markdown",
   "metadata": {},
   "source": [
    "# Catboost Model(gradient boosting with categorical features)"
   ]
  },
  {
   "cell_type": "markdown",
   "metadata": {},
   "source": [
    "### Next, apply the TF-IDF to the documents, convert it to numeric values that could tell the importance of certain words"
   ]
  },
  {
   "cell_type": "code",
   "execution_count": 8,
   "metadata": {},
   "outputs": [],
   "source": [
    "from sklearn.feature_extraction.text import TfidfVectorizer\n",
    "from sklearn.model_selection import train_test_split\n",
    "from catboost import Pool, CatBoostRegressor, cv\n",
    "from sklearn import metrics\n",
    "from sklearn.metrics import mean_squared_error"
   ]
  },
  {
   "cell_type": "code",
   "execution_count": 9,
   "metadata": {},
   "outputs": [],
   "source": [
    "def prepare_dataframe(vect, data, features=True):\n",
    "    vectorized=vect.fit_transform(data['cleaned_description']).toarray()\n",
    "    vectorized=pd.DataFrame(vectorized)\n",
    "    if features == True:\n",
    "        X=data.drop(columns=['points','Unnamed: 0','description','cleaned_description'])\n",
    "        X=X.drop(columns = ['Unnamed: 0.1'])\n",
    "        X=X.fillna(-1)\n",
    "        print(X.columns)\n",
    "        X=pd.concat([X.reset_index(drop=True),vectorized.reset_index(drop=True)],axis=1)\n",
    "        categorical_features_indices =[0,1,3,4,5,6,7,8,9,10]\n",
    "    else:\n",
    "        X=vectorized\n",
    "        categorical_features_indices =[]\n",
    "    y=data['points']\n",
    "    return X,y,categorical_features_indices"
   ]
  },
  {
   "cell_type": "code",
   "execution_count": 10,
   "metadata": {},
   "outputs": [],
   "source": [
    "\n",
    "def perform_model(X_train, y_train,X_valid, y_valid,X_test, y_test,categorical_features_indices,name):\n",
    "    model = CatBoostRegressor(\n",
    "        random_seed = 542,\n",
    "        loss_function = 'RMSE',\n",
    "        iterations=500,\n",
    "    )\n",
    "    \n",
    "    model.fit(\n",
    "        X_train, y_train,\n",
    "        cat_features = categorical_features_indices,\n",
    "        verbose=False,\n",
    "        eval_set=(X_valid, y_valid)\n",
    "    )\n",
    "    print('RMSE train:', np.sqrt(metrics.mean_squared_error(y_train, model.predict(X_train))))\n",
    "    print('RMSE valid:', np.sqrt(metrics.mean_squared_error(y_valid, model.predict(X_valid))))\n",
    "    print('RMSE test:', np.sqrt(metrics.mean_squared_error(y_test, model.predict(X_test))))\n",
    "    X, y , categorical_features_indices = prepare_dataframe(vect, data,True)\n",
    "    feature_score = pd.DataFrame(list(zip(X.dtypes.index, model.get_feature_importance(Pool(X, label=y, cat_features=categorical_features_indices)))),\n",
    "                columns=['Feature','Score'])\n",
    "    feature_score1 = feature_score[1:10]\n",
    "    feature_score1.sort_values(by=['Score'])\n",
    "    ax = feature_score1.plot('Feature', 'Score', kind='bar', color='c')\n",
    "    ax.set_title(\"Catboost Feature Importance Ranking\", fontsize = 14)\n",
    "    ax.set_xlabel('')\n",
    "\n",
    "    rects = ax.patches\n",
    "\n",
    "    labels = feature_score1['Score'].round(2)\n",
    "\n",
    "    for rect, label in zip(rects, labels):\n",
    "        height = rect.get_height()\n",
    "        ax.text(rect.get_x() + rect.get_width()/2, height + 0.35, label, ha='center', va='bottom')\n",
    "\n",
    "    plt.show()\n",
    "\n",
    "    "
   ]
  },
  {
   "cell_type": "code",
   "execution_count": 11,
   "metadata": {},
   "outputs": [],
   "source": [
    "def prepare_variable(vect, data, append=True):\n",
    "    X, y , categorical_features_indices = prepare_dataframe(vect, data,append)\n",
    "    X_train, X_test, y_train, y_test = train_test_split(X, y, test_size=0.15, \n",
    "                                                        random_state=32)\n",
    "    X_train, X_valid, y_train, y_valid = train_test_split(X_train, y_train, test_size=0.15, \n",
    "                                                        random_state=52)\n",
    "    return X_train, y_train,X_valid, y_valid,X_test, y_test, categorical_features_indices"
   ]
  },
  {
   "cell_type": "code",
   "execution_count": 12,
   "metadata": {},
   "outputs": [],
   "source": [
    "data = pd.read_csv('lemma_stem_cleaned_description.csv')"
   ]
  },
  {
   "cell_type": "code",
   "execution_count": 313,
   "metadata": {},
   "outputs": [
    {
     "name": "stdout",
     "output_type": "stream",
     "text": [
      "Index(['country', 'designation', 'price', 'province', 'region_1', 'region_2',\n",
      "       'taster_name', 'taster_twitter_handle', 'title', 'variety', 'winery'],\n",
      "      dtype='object')\n",
      "RMSE train: 1.6086510858291974\n",
      "RMSE valid: 1.7016492290070897\n",
      "RMSE test: 1.7096774871794596\n"
     ]
    },
    {
     "data": {
      "image/png": "[encoded data removed]",
      "text/plain": [
       "<Figure size 576x396 with 1 Axes>"
      ]
     },
     "metadata": {},
     "output_type": "display_data"
    }
   ],
   "source": [
    "vect= TfidfVectorizer(analyzer='word',max_features=200)\n",
    "training_variable=prepare_variable(vect, data)\n",
    "perform_model(*training_variable, 'TF-IDF')"
   ]
  },
  {
   "cell_type": "code",
   "execution_count": 14,
   "metadata": {},
   "outputs": [
    {
     "name": "stdout",
     "output_type": "stream",
     "text": [
      "Index(['country', 'designation', 'price', 'province', 'region_1', 'region_2',\n",
      "       'taster_name', 'taster_twitter_handle', 'title', 'variety', 'winery'],\n",
      "      dtype='object')\n",
      "RMSE train: 1.6086510858291974\n",
      "RMSE valid: 1.7016492290070897\n",
      "RMSE test: 1.7096774871794596\n",
      "Index(['country', 'designation', 'price', 'province', 'region_1', 'region_2',\n",
      "       'taster_name', 'taster_twitter_handle', 'title', 'variety', 'winery'],\n",
      "      dtype='object')\n"
     ]
    },
    {
     "data": {
      "image/png": "[encoded data removed]",
      "text/plain": [
       "<Figure size 432x288 with 1 Axes>"
      ]
     },
     "metadata": {
      "needs_background": "light"
     },
     "output_type": "display_data"
    },
    {
     "name": "stdout",
     "output_type": "stream",
     "text": [
      "Model Runtime:  142.3175798329994\n"
     ]
    }
   ],
   "source": [
    "###let's see the run time\n",
    "import timeit\n",
    "start = timeit.default_timer()\n",
    "\n",
    "vect= TfidfVectorizer(analyzer='word',max_features=200)\n",
    "training_variable=prepare_variable(vect, data)\n",
    "perform_model(*training_variable, 'TF-IDF')\n",
    "\n",
    "stop = timeit.default_timer()\n",
    "print('Model Runtime: ', stop - start)  \n"
   ]
  },
  {
   "cell_type": "code",
   "execution_count": 247,
   "metadata": {},
   "outputs": [
    {
     "name": "stderr",
     "output_type": "stream",
     "text": [
      "/Users/ayyoki/anaconda3/lib/python3.7/site-packages/ipykernel_launcher.py:2: FutureWarning: from_csv is deprecated. Please use read_csv(...) instead. Note that some of the default arguments are different, so please refer to the documentation for from_csv when changing your function calls\n",
      "  \n"
     ]
    }
   ],
   "source": [
    "##please note this test_error.tsv comes from 800 iters, because I would\n",
    "##like to see where the curve turns flat and make a cut there\n",
    "\n",
    "from pandas import DataFrame\n",
    "validation_set_error = DataFrame.from_csv(\"test_error.tsv\", sep=\"\\t\")\n",
    "validation_set_error.to_csv('validation_error_per_itr.csv')"
   ]
  },
  {
   "cell_type": "code",
   "execution_count": 53,
   "metadata": {},
   "outputs": [],
   "source": [
    "validation_error_per_itr=pd.read_csv('validation_error_per_itr.csv')"
   ]
  },
  {
   "cell_type": "code",
   "execution_count": 54,
   "metadata": {},
   "outputs": [
    {
     "data": {
      "text/html": [
       "<div>\n",
       "<style scoped>\n",
       "    .dataframe tbody tr th:only-of-type {\n",
       "        vertical-align: middle;\n",
       "    }\n",
       "\n",
       "    .dataframe tbody tr th {\n",
       "        vertical-align: top;\n",
       "    }\n",
       "\n",
       "    .dataframe thead th {\n",
       "        text-align: right;\n",
       "    }\n",
       "</style>\n",
       "<table border=\"1\" class=\"dataframe\">\n",
       "  <thead>\n",
       "    <tr style=\"text-align: right;\">\n",
       "      <th></th>\n",
       "      <th>iter</th>\n",
       "      <th>RMSE</th>\n",
       "    </tr>\n",
       "  </thead>\n",
       "  <tbody>\n",
       "    <tr>\n",
       "      <th>795</th>\n",
       "      <td>795</td>\n",
       "      <td>1.638041</td>\n",
       "    </tr>\n",
       "    <tr>\n",
       "      <th>796</th>\n",
       "      <td>796</td>\n",
       "      <td>1.637927</td>\n",
       "    </tr>\n",
       "    <tr>\n",
       "      <th>797</th>\n",
       "      <td>797</td>\n",
       "      <td>1.637790</td>\n",
       "    </tr>\n",
       "    <tr>\n",
       "      <th>798</th>\n",
       "      <td>798</td>\n",
       "      <td>1.637676</td>\n",
       "    </tr>\n",
       "    <tr>\n",
       "      <th>799</th>\n",
       "      <td>799</td>\n",
       "      <td>1.637447</td>\n",
       "    </tr>\n",
       "  </tbody>\n",
       "</table>\n",
       "</div>"
      ],
      "text/plain": [
       "     iter      RMSE\n",
       "795   795  1.638041\n",
       "796   796  1.637927\n",
       "797   797  1.637790\n",
       "798   798  1.637676\n",
       "799   799  1.637447"
      ]
     },
     "execution_count": 54,
     "metadata": {},
     "output_type": "execute_result"
    }
   ],
   "source": [
    "validation_error_per_itr.tail(5)"
   ]
  },
  {
   "cell_type": "code",
   "execution_count": 57,
   "metadata": {},
   "outputs": [
    {
     "data": {
      "text/plain": [
       "Text(0, 0.5, 'RMSE')"
      ]
     },
     "execution_count": 57,
     "metadata": {},
     "output_type": "execute_result"
    },
    {
     "data": {
      "image/png": "[encoded data removed]",
      "text/plain": [
       "<Figure size 576x396 with 1 Axes>"
      ]
     },
     "metadata": {},
     "output_type": "display_data"
    }
   ],
   "source": [
    "%matplotlib inline\n",
    "import matplotlib.pyplot as plt\n",
    "plt.style.use('seaborn')\n",
    "plt.plot(validation_error_per_itr['iter'], validation_error_per_itr['RMSE'], '.', color='darkblue',linewidth=2);\n",
    "plt.title('RMSE vs iterations - Scored on validation',fontsize=15)\n",
    "plt.xlabel('Iterations',fontsize=30)\n",
    "plt.ylabel('RMSE',fontsize=30)\n",
    "\n",
    "#the curve flats out around iter#500, so we will choose 500 iterations to avoid too many iters that lead to overfitting."
   ]
  },
  {
   "cell_type": "markdown",
   "metadata": {},
   "source": [
    "# Random Forest Model"
   ]
  },
  {
   "cell_type": "code",
   "execution_count": 17,
   "metadata": {},
   "outputs": [
    {
     "name": "stdout",
     "output_type": "stream",
     "text": [
      "Index(['country', 'designation', 'price', 'province', 'region_1', 'region_2',\n",
      "       'taster_name', 'taster_twitter_handle', 'title', 'variety', 'winery'],\n",
      "      dtype='object')\n"
     ]
    }
   ],
   "source": [
    "vect= TfidfVectorizer(analyzer='word',max_features=200)\n",
    "X, y , categorical_features_indices = prepare_dataframe(vect, data,True)"
   ]
  },
  {
   "cell_type": "markdown",
   "metadata": {},
   "source": [
    "### ONE-HOT encoding\n",
    "- ### Unlike Catboost that handle categorical variables automatically, random forest needs us to encode all categorical variables. I tried to encode all categorical variables including desgination and winery. Which involves too many degree of freedom and that means our dummy matrix will be more than 40,000 columns. As we see the variable improtance from catboost, those are not very important so I chose to drop them. \n",
    "\n"
   ]
  },
  {
   "cell_type": "code",
   "execution_count": 18,
   "metadata": {},
   "outputs": [
    {
     "data": {
      "text/plain": [
       "(129971, 2629)"
      ]
     },
     "execution_count": 18,
     "metadata": {},
     "output_type": "execute_result"
    }
   ],
   "source": [
    "new_data = X.drop(['designation', 'winery','region_2','taster_twitter_handle','title'], axis = 1)\n",
    "dummies = pd.get_dummies(new_data,prefix = ['country', 'province', 'region_1', 'taster_name','variety']) \n",
    "# adding 2629 dummy columns to it.\n",
    "dummies.shape"
   ]
  },
  {
   "cell_type": "code",
   "execution_count": 19,
   "metadata": {},
   "outputs": [],
   "source": [
    "temp = new_data.drop(['country', 'province', 'region_1', 'taster_name','variety','price'],axis=1)"
   ]
  },
  {
   "cell_type": "code",
   "execution_count": 20,
   "metadata": {},
   "outputs": [],
   "source": [
    "##merge dummies and tf-idf to move forward\n",
    "temp = new_data.drop(['country', 'province', 'region_1', 'taster_name','variety','price'],axis = 1)\n",
    "\n",
    "new_data_dummied_tfidf = pd.concat([temp, dummies],axis = 1)"
   ]
  },
  {
   "cell_type": "code",
   "execution_count": 21,
   "metadata": {},
   "outputs": [
    {
     "name": "stdout",
     "output_type": "stream",
     "text": [
      "Training Features Shape: (103976, 2829)\n",
      "Training Labels Shape: (25995, 2829)\n",
      "Testing Features Shape: (103976,)\n",
      "Testing Labels Shape: (25995,)\n"
     ]
    }
   ],
   "source": [
    "# Import the random regressor\n",
    "from sklearn.ensemble import RandomForestRegressor\n",
    "\n",
    "X = new_data_dummied_tfidf\n",
    "\n",
    "X_train, X_test, y_train, y_test = train_test_split(X, y, test_size=0.20, \n",
    "                                                        random_state=542)\n",
    "\n",
    "#80:20 split, we just use train and validation, no test set this time. \n",
    "print('Training Features Shape:', X_train.shape)\n",
    "print('Training Labels Shape:', X_test.shape)\n",
    "print('Testing Features Shape:', y_train.shape)\n",
    "print('Testing Labels Shape:', y_test.shape)"
   ]
  },
  {
   "cell_type": "code",
   "execution_count": 22,
   "metadata": {},
   "outputs": [
    {
     "name": "stderr",
     "output_type": "stream",
     "text": [
      "/Users/ayyoki/anaconda3/lib/python3.7/site-packages/sklearn/ensemble/forest.py:246: FutureWarning: The default value of n_estimators will change from 10 in version 0.20 to 100 in 0.22.\n",
      "  \"10 in version 0.20 to 100 in 0.22.\", FutureWarning)\n"
     ]
    },
    {
     "name": "stdout",
     "output_type": "stream",
     "text": [
      "RMSE train: 0.7924062035273393\n",
      "RMSE valid: 1.8522517915675674\n",
      "RF Model Runtime:  328.46408298999995\n"
     ]
    }
   ],
   "source": [
    "import timeit\n",
    "start = timeit.default_timer()\n",
    "rf = RandomForestRegressor(random_state = 542)\n",
    "\n",
    "rf.fit(X_train, y_train)\n",
    "print('RMSE train:', np.sqrt(metrics.mean_squared_error(y_train, rf.predict(X_train))))\n",
    "print('RMSE valid:', np.sqrt(metrics.mean_squared_error(y_test, rf.predict(X_test))))\n",
    "\n",
    "stop = timeit.default_timer()\n",
    "print('RF Model Runtime: ', stop - start)  "
   ]
  },
  {
   "cell_type": "code",
   "execution_count": 45,
   "metadata": {},
   "outputs": [
    {
     "data": {
      "image/png": "[encoded data removed]",
      "text/plain": [
       "<Figure size 432x288 with 1 Axes>"
      ]
     },
     "metadata": {},
     "output_type": "display_data"
    }
   ],
   "source": [
    "importances = list(rf.feature_importances_)\n",
    "importances = importances[200:210]\n",
    "feature_list = list(X.columns)\n",
    "feature_list = feature_list[200:210]\n",
    "\n",
    "plt.style.use('fivethirtyeight')\n",
    "x_values = list(range(len(importances)))\n",
    "\n",
    "plt.bar(x_values, importances, orientation = 'vertical')\n",
    "\n",
    "plt.xticks(x_values, feature_list, rotation='vertical')\n",
    "# Axis labels and title\n",
    "plt.ylabel('Importance'); plt.xlabel('Variable'); plt.title('Variable Importances');"
   ]
  },
  {
   "cell_type": "markdown",
   "metadata": {},
   "source": [
    "## Let's do more EDA"
   ]
  },
  {
   "cell_type": "code",
   "execution_count": 161,
   "metadata": {},
   "outputs": [
    {
     "data": {
      "image/png": "[encoded data removed]",
      "text/plain": [
       "<Figure size 576x396 with 1 Axes>"
      ]
     },
     "metadata": {},
     "output_type": "display_data"
    }
   ],
   "source": [
    "data.boxplot(column='price',by='points')\n",
    "plt.title(\"points vs price\",fontsize=23, color = 'darkblue')\n",
    "plt.show() \n"
   ]
  },
  {
   "cell_type": "code",
   "execution_count": 59,
   "metadata": {},
   "outputs": [
    {
     "data": {
      "image/png": "[encoded data removed]",
      "text/plain": [
       "<Figure size 504x288 with 1 Axes>"
      ]
     },
     "metadata": {},
     "output_type": "display_data"
    }
   ],
   "source": [
    "fig, ax = plt.subplots(figsize=(7,4))\n",
    "country.head(10).plot(kind='barh', legend = False, ax=ax)\n",
    "ax.set_xlabel('#of obs')\n",
    "ax.set_ylabel('Country')\n",
    "\n",
    "plt.show()"
   ]
  },
  {
   "cell_type": "code",
   "execution_count": 52,
   "metadata": {},
   "outputs": [
    {
     "data": {
      "image/png": "[encoded data removed]",
      "text/plain": [
       "<Figure size 1440x720 with 1 Axes>"
      ]
     },
     "metadata": {},
     "output_type": "display_data"
    }
   ],
   "source": [
    "f = plt.figure(figsize=(20,10))\n",
    "ax = sns.countplot(x='points',data = data, palette='hls' )\n",
    "ax.set_xlabel('points', fontsize = 30)\n",
    "ax.axes.set_title(\"Points distribution\",fontsize=50)\n",
    "ax.set_ylabel('counts', fontsize = 30)\n",
    "plt.show()"
   ]
  },
  {
   "cell_type": "markdown",
   "metadata": {},
   "source": [
    "## Now let's start on Question 2"
   ]
  },
  {
   "cell_type": "code",
   "execution_count": 25,
   "metadata": {},
   "outputs": [],
   "source": [
    "cheap_wine_index = data['price'] < 20\n",
    "cheap_wine = data[cheap_wine_index]"
   ]
  },
  {
   "cell_type": "code",
   "execution_count": 26,
   "metadata": {},
   "outputs": [
    {
     "data": {
      "text/plain": [
       "(39401, 16)"
      ]
     },
     "execution_count": 26,
     "metadata": {},
     "output_type": "execute_result"
    }
   ],
   "source": [
    "cheap_wine.shape"
   ]
  },
  {
   "cell_type": "code",
   "execution_count": 27,
   "metadata": {},
   "outputs": [
    {
     "data": {
      "text/plain": [
       "(20357, 16)"
      ]
     },
     "execution_count": 27,
     "metadata": {},
     "output_type": "execute_result"
    }
   ],
   "source": [
    "cheap_fruity_wine_ind = cheap_wine['description'].str.contains('fruit')\n",
    "cheap_fruity_wine=cheap_wine[cheap_fruity_wine_ind]\n",
    "cheap_fruity_wine.shape"
   ]
  },
  {
   "cell_type": "code",
   "execution_count": 28,
   "metadata": {},
   "outputs": [
    {
     "data": {
      "text/plain": [
       "(550, 16)"
      ]
     },
     "execution_count": 28,
     "metadata": {},
     "output_type": "execute_result"
    }
   ],
   "source": [
    "cheap_fruity_wine_pinotnoir_ind = cheap_fruity_wine['variety']=='Pinot Noir'\n",
    "cheap_fruity_wine_pinotnoir = cheap_fruity_wine[cheap_fruity_wine_pinotnoir_ind]\n",
    "cheap_fruity_wine_pinotnoir.shape\n",
    "\n"
   ]
  },
  {
   "cell_type": "code",
   "execution_count": 29,
   "metadata": {},
   "outputs": [
    {
     "data": {
      "text/html": [
       "<div>\n",
       "<style scoped>\n",
       "    .dataframe tbody tr th:only-of-type {\n",
       "        vertical-align: middle;\n",
       "    }\n",
       "\n",
       "    .dataframe tbody tr th {\n",
       "        vertical-align: top;\n",
       "    }\n",
       "\n",
       "    .dataframe thead th {\n",
       "        text-align: right;\n",
       "    }\n",
       "</style>\n",
       "<table border=\"1\" class=\"dataframe\">\n",
       "  <thead>\n",
       "    <tr style=\"text-align: right;\">\n",
       "      <th></th>\n",
       "      <th>winery</th>\n",
       "      <th>points</th>\n",
       "    </tr>\n",
       "  </thead>\n",
       "  <tbody>\n",
       "    <tr>\n",
       "      <th>125857</th>\n",
       "      <td>Stadlmann</td>\n",
       "      <td>93</td>\n",
       "    </tr>\n",
       "    <tr>\n",
       "      <th>43930</th>\n",
       "      <td>Stadlmann</td>\n",
       "      <td>93</td>\n",
       "    </tr>\n",
       "    <tr>\n",
       "      <th>126313</th>\n",
       "      <td>Tangley Oaks</td>\n",
       "      <td>92</td>\n",
       "    </tr>\n",
       "    <tr>\n",
       "      <th>104066</th>\n",
       "      <td>Starmont</td>\n",
       "      <td>92</td>\n",
       "    </tr>\n",
       "    <tr>\n",
       "      <th>11094</th>\n",
       "      <td>Schug</td>\n",
       "      <td>92</td>\n",
       "    </tr>\n",
       "    <tr>\n",
       "      <th>99597</th>\n",
       "      <td>Meinklang</td>\n",
       "      <td>92</td>\n",
       "    </tr>\n",
       "    <tr>\n",
       "      <th>35002</th>\n",
       "      <td>Markowitsch</td>\n",
       "      <td>92</td>\n",
       "    </tr>\n",
       "    <tr>\n",
       "      <th>106901</th>\n",
       "      <td>Garnet</td>\n",
       "      <td>92</td>\n",
       "    </tr>\n",
       "    <tr>\n",
       "      <th>94207</th>\n",
       "      <td>J. Lohr</td>\n",
       "      <td>92</td>\n",
       "    </tr>\n",
       "    <tr>\n",
       "      <th>94850</th>\n",
       "      <td>Louis Max</td>\n",
       "      <td>91</td>\n",
       "    </tr>\n",
       "  </tbody>\n",
       "</table>\n",
       "</div>"
      ],
      "text/plain": [
       "              winery  points\n",
       "125857     Stadlmann      93\n",
       "43930      Stadlmann      93\n",
       "126313  Tangley Oaks      92\n",
       "104066      Starmont      92\n",
       "11094          Schug      92\n",
       "99597      Meinklang      92\n",
       "35002    Markowitsch      92\n",
       "106901        Garnet      92\n",
       "94207        J. Lohr      92\n",
       "94850      Louis Max      91"
      ]
     },
     "execution_count": 29,
     "metadata": {},
     "output_type": "execute_result"
    }
   ],
   "source": [
    "cheap_fruity_wine_pinotnoir.sort_values('points', ascending=False)[['winery','points']][1:11]\n"
   ]
  },
  {
   "cell_type": "markdown",
   "metadata": {},
   "source": [
    "## This section calculate the average points by the top 10 wineries above(that make top 10 best fruity Pinot Noir"
   ]
  },
  {
   "cell_type": "code",
   "execution_count": 30,
   "metadata": {},
   "outputs": [],
   "source": [
    "####Stadlmann\n",
    "Stadlmann_ind = data['winery'] == 'Stadlmann'\n",
    "Stadlmann = data[Stadlmann_ind]\n",
    "avg_Stadlmann = Stadlmann['points'].mean()\n",
    "\n",
    "####Tangley_Oaks\n",
    "Tangley_Oaks_ind = data['winery'] == 'Tangley Oaks'\n",
    "Tangley_Oaks = data[Tangley_Oaks_ind]\n",
    "avg_Tangley_Oaks = Tangley_Oaks['points'].mean()\n",
    "\n",
    "####Starmont\n",
    "Starmont_ind = data['winery'] == 'Starmont'\n",
    "Starmont = data[Starmont_ind]\n",
    "avg_Starmont = Starmont['points'].mean()\n",
    "\n",
    "####Schug\n",
    "Schug_ind = data['winery'] == 'Schug'\n",
    "Schug = data[Schug_ind]\n",
    "avg_Schug = Schug['points'].mean()\n",
    "\n",
    "####Meinklang\n",
    "Meinklang_ind = data['winery'] == 'Meinklang'\n",
    "Meinklang = data[Meinklang_ind]\n",
    "avg_Meinklang = Meinklang['points'].mean()\n",
    "\n",
    "####Markowitsch\n",
    "Markowitsch_ind = data['winery'] == 'Markowitsch'\n",
    "Markowitsch = data[Markowitsch_ind]\n",
    "avg_Markowitsch = Markowitsch['points'].mean()\n",
    "\n",
    "####Garnet\n",
    "Garnet_ind = data['winery'] == 'Garnet'\n",
    "Garnet = data[Garnet_ind]\n",
    "avg_Garnet = Garnet['points'].mean()\n",
    "\n",
    "####J. Lohr\n",
    "JLohr_ind = data['winery'] == 'J. Lohr'\n",
    "JLohr = data[JLohr_ind]\n",
    "avg_JLohr = JLohr['points'].mean()\n",
    "\n",
    "####Louis Max\n",
    "Louis_Max_ind = data['winery'] == 'Louis Max'\n",
    "Louis_Max = data[Louis_Max_ind]\n",
    "avg_Louis_Max = Louis_Max['points'].mean()\n",
    "\n"
   ]
  },
  {
   "cell_type": "code",
   "execution_count": 109,
   "metadata": {},
   "outputs": [],
   "source": [
    "general_wine_points = pd.DataFrame({'avg_points_general': [avg_Stadlmann,avg_Tangley_Oaks,avg_Starmont,avg_Schug,avg_Meinklang,avg_Markowitsch,avg_Garnet,avg_JLohr,avg_Louis_Max],\n",
    "                   'winery_name': ['Stadlmann', 'Tangley_Oaks','Starmont','Schug','Meinklang','Markowitsch','Garnet','J. Lohr','Louis Max'],\n",
    "                  })"
   ]
  },
  {
   "cell_type": "code",
   "execution_count": 107,
   "metadata": {},
   "outputs": [],
   "source": [
    "general_wine_points=general_wine_points.sort_values('avg_points_general', ascending=False)\n",
    "\n",
    "\n"
   ]
  },
  {
   "cell_type": "code",
   "execution_count": 33,
   "metadata": {},
   "outputs": [
    {
     "data": {
      "image/png": "[encoded data removed]",
      "text/plain": [
       "<Figure size 504x288 with 1 Axes>"
      ]
     },
     "metadata": {
      "needs_background": "light"
     },
     "output_type": "display_data"
    }
   ],
   "source": [
    "fig, ax = plt.subplots(figsize=(7,4))\n",
    "general_wine_points.plot(kind='barh', legend = False, ax=ax)\n",
    "ax.set_xlabel('#average wine points(general)')\n",
    "ax.set_yticklabels(general_wine_points['winery_name'])\n",
    "ax.set_ylabel('winery name')\n",
    "\n",
    "plt.show()"
   ]
  },
  {
   "cell_type": "code",
   "execution_count": 34,
   "metadata": {},
   "outputs": [],
   "source": [
    "top_n= pd.concat([Stadlmann, Tangley_Oaks,Starmont,Schug,Meinklang,Markowitsch,Garnet,JLohr,Louis_Max],axis = 0)\n",
    "top_n= top_n.sort_values('points', ascending=False)\n"
   ]
  },
  {
   "cell_type": "code",
   "execution_count": 36,
   "metadata": {},
   "outputs": [
    {
     "data": {
      "text/plain": [
       "<matplotlib.axes._subplots.AxesSubplot at 0x1a31520390>"
      ]
     },
     "execution_count": 36,
     "metadata": {},
     "output_type": "execute_result"
    },
    {
     "data": {
      "image/png": "[encoded data removed]",
      "text/plain": [
       "<Figure size 1008x432 with 1 Axes>"
      ]
     },
     "metadata": {},
     "output_type": "display_data"
    }
   ],
   "source": [
    "import seaborn as sns\n",
    "sns.set_color_codes(\"pastel\")\n",
    "plt.style.use('seaborn')\n",
    "plt.figure(figsize = (14,6))\n",
    "sns.boxplot(\n",
    "    x = 'winery',\n",
    "    y = 'points',\n",
    "    data = top_n\n",
    ")"
   ]
  },
  {
   "cell_type": "code",
   "execution_count": 117,
   "metadata": {},
   "outputs": [
    {
     "data": {
      "text/html": [
       "<div>\n",
       "<style scoped>\n",
       "    .dataframe tbody tr th:only-of-type {\n",
       "        vertical-align: middle;\n",
       "    }\n",
       "\n",
       "    .dataframe tbody tr th {\n",
       "        vertical-align: top;\n",
       "    }\n",
       "\n",
       "    .dataframe thead th {\n",
       "        text-align: right;\n",
       "    }\n",
       "</style>\n",
       "<table border=\"1\" class=\"dataframe\">\n",
       "  <thead>\n",
       "    <tr style=\"text-align: right;\">\n",
       "      <th></th>\n",
       "      <th>avg_points_general</th>\n",
       "      <th>winery_name</th>\n",
       "    </tr>\n",
       "  </thead>\n",
       "  <tbody>\n",
       "    <tr>\n",
       "      <th>0</th>\n",
       "      <td>91.000000</td>\n",
       "      <td>Stadlmann</td>\n",
       "    </tr>\n",
       "    <tr>\n",
       "      <th>1</th>\n",
       "      <td>85.923077</td>\n",
       "      <td>Tangley_Oaks</td>\n",
       "    </tr>\n",
       "    <tr>\n",
       "      <th>2</th>\n",
       "      <td>88.807692</td>\n",
       "      <td>Starmont</td>\n",
       "    </tr>\n",
       "    <tr>\n",
       "      <th>3</th>\n",
       "      <td>87.958333</td>\n",
       "      <td>Schug</td>\n",
       "    </tr>\n",
       "    <tr>\n",
       "      <th>4</th>\n",
       "      <td>90.571429</td>\n",
       "      <td>Meinklang</td>\n",
       "    </tr>\n",
       "    <tr>\n",
       "      <th>5</th>\n",
       "      <td>90.619048</td>\n",
       "      <td>Markowitsch</td>\n",
       "    </tr>\n",
       "    <tr>\n",
       "      <th>6</th>\n",
       "      <td>88.300000</td>\n",
       "      <td>Garnet</td>\n",
       "    </tr>\n",
       "    <tr>\n",
       "      <th>7</th>\n",
       "      <td>88.397849</td>\n",
       "      <td>J. Lohr</td>\n",
       "    </tr>\n",
       "    <tr>\n",
       "      <th>8</th>\n",
       "      <td>87.500000</td>\n",
       "      <td>Louis Max</td>\n",
       "    </tr>\n",
       "  </tbody>\n",
       "</table>\n",
       "</div>"
      ],
      "text/plain": [
       "   avg_points_general   winery_name\n",
       "0           91.000000     Stadlmann\n",
       "1           85.923077  Tangley_Oaks\n",
       "2           88.807692      Starmont\n",
       "3           87.958333         Schug\n",
       "4           90.571429     Meinklang\n",
       "5           90.619048   Markowitsch\n",
       "6           88.300000        Garnet\n",
       "7           88.397849       J. Lohr\n",
       "8           87.500000     Louis Max"
      ]
     },
     "execution_count": 117,
     "metadata": {},
     "output_type": "execute_result"
    }
   ],
   "source": [
    "general_wine_points"
   ]
  },
  {
   "cell_type": "code",
   "execution_count": 131,
   "metadata": {},
   "outputs": [],
   "source": [
    "select = cheap_fruity_wine_pinotnoir.sort_values('points', ascending=False)[['winery','points']][1:11]\n",
    "select = select.reset_index()\n",
    "select1= select.iloc[1:]\n",
    "select1=select1.rename(columns = {\"points\":\"fruity_pinot_points\"})\n",
    "\n",
    "general_wine_points1= general_wine_points.rename(columns={\"winery_name\": \"winery\"})\n",
    "\n",
    "general_wine_points1=general_wine_points1.sort_values('avg_points_general', ascending=False)"
   ]
  },
  {
   "cell_type": "code",
   "execution_count": 134,
   "metadata": {},
   "outputs": [
    {
     "data": {
      "text/html": [
       "<div>\n",
       "<style scoped>\n",
       "    .dataframe tbody tr th:only-of-type {\n",
       "        vertical-align: middle;\n",
       "    }\n",
       "\n",
       "    .dataframe tbody tr th {\n",
       "        vertical-align: top;\n",
       "    }\n",
       "\n",
       "    .dataframe thead th {\n",
       "        text-align: right;\n",
       "    }\n",
       "</style>\n",
       "<table border=\"1\" class=\"dataframe\">\n",
       "  <thead>\n",
       "    <tr style=\"text-align: right;\">\n",
       "      <th></th>\n",
       "      <th>index_x</th>\n",
       "      <th>avg_points_general</th>\n",
       "      <th>winery</th>\n",
       "      <th>level_0</th>\n",
       "      <th>index_y</th>\n",
       "      <th>fruity_pinot_points</th>\n",
       "    </tr>\n",
       "  </thead>\n",
       "  <tbody>\n",
       "    <tr>\n",
       "      <th>0</th>\n",
       "      <td>0</td>\n",
       "      <td>91.000000</td>\n",
       "      <td>Stadlmann</td>\n",
       "      <td>1</td>\n",
       "      <td>43930</td>\n",
       "      <td>93</td>\n",
       "    </tr>\n",
       "    <tr>\n",
       "      <th>1</th>\n",
       "      <td>5</td>\n",
       "      <td>90.619048</td>\n",
       "      <td>Markowitsch</td>\n",
       "      <td>6</td>\n",
       "      <td>35002</td>\n",
       "      <td>92</td>\n",
       "    </tr>\n",
       "    <tr>\n",
       "      <th>2</th>\n",
       "      <td>4</td>\n",
       "      <td>90.571429</td>\n",
       "      <td>Meinklang</td>\n",
       "      <td>5</td>\n",
       "      <td>99597</td>\n",
       "      <td>92</td>\n",
       "    </tr>\n",
       "    <tr>\n",
       "      <th>3</th>\n",
       "      <td>2</td>\n",
       "      <td>88.807692</td>\n",
       "      <td>Starmont</td>\n",
       "      <td>3</td>\n",
       "      <td>104066</td>\n",
       "      <td>92</td>\n",
       "    </tr>\n",
       "    <tr>\n",
       "      <th>4</th>\n",
       "      <td>7</td>\n",
       "      <td>88.397849</td>\n",
       "      <td>J. Lohr</td>\n",
       "      <td>8</td>\n",
       "      <td>94207</td>\n",
       "      <td>92</td>\n",
       "    </tr>\n",
       "    <tr>\n",
       "      <th>5</th>\n",
       "      <td>6</td>\n",
       "      <td>88.300000</td>\n",
       "      <td>Garnet</td>\n",
       "      <td>7</td>\n",
       "      <td>106901</td>\n",
       "      <td>92</td>\n",
       "    </tr>\n",
       "    <tr>\n",
       "      <th>6</th>\n",
       "      <td>3</td>\n",
       "      <td>87.958333</td>\n",
       "      <td>Schug</td>\n",
       "      <td>4</td>\n",
       "      <td>11094</td>\n",
       "      <td>92</td>\n",
       "    </tr>\n",
       "    <tr>\n",
       "      <th>7</th>\n",
       "      <td>8</td>\n",
       "      <td>87.500000</td>\n",
       "      <td>Louis Max</td>\n",
       "      <td>9</td>\n",
       "      <td>94850</td>\n",
       "      <td>91</td>\n",
       "    </tr>\n",
       "  </tbody>\n",
       "</table>\n",
       "</div>"
      ],
      "text/plain": [
       "   index_x  avg_points_general       winery  level_0  index_y  \\\n",
       "0        0           91.000000    Stadlmann        1    43930   \n",
       "1        5           90.619048  Markowitsch        6    35002   \n",
       "2        4           90.571429    Meinklang        5    99597   \n",
       "3        2           88.807692     Starmont        3   104066   \n",
       "4        7           88.397849      J. Lohr        8    94207   \n",
       "5        6           88.300000       Garnet        7   106901   \n",
       "6        3           87.958333        Schug        4    11094   \n",
       "7        8           87.500000    Louis Max        9    94850   \n",
       "\n",
       "   fruity_pinot_points  \n",
       "0                   93  \n",
       "1                   92  \n",
       "2                   92  \n",
       "3                   92  \n",
       "4                   92  \n",
       "5                   92  \n",
       "6                   92  \n",
       "7                   91  "
      ]
     },
     "execution_count": 134,
     "metadata": {},
     "output_type": "execute_result"
    }
   ],
   "source": [
    "new=pd.merge(general_wine_points1.reset_index(),select1.reset_index(),on = 'winery')\n",
    "new"
   ]
  },
  {
   "cell_type": "code",
   "execution_count": null,
   "metadata": {},
   "outputs": [],
   "source": []
  }
 ],
 "metadata": {
  "kernelspec": {
   "display_name": "Python 3",
   "language": "python",
   "name": "python3"
  },
  "language_info": {
   "codemirror_mode": {
    "name": "ipython",
    "version": 3
   },
   "file_extension": ".py",
   "mimetype": "text/x-python",
   "name": "python",
   "nbconvert_exporter": "python",
   "pygments_lexer": "ipython3",
   "version": "3.7.3"
  }
 },
 "nbformat": 4,
 "nbformat_minor": 2
}
